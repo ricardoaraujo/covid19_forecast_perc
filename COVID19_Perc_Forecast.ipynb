{
 "cells": [
  {
   "cell_type": "markdown",
   "metadata": {},
   "source": [
    "This is a Python port of the C code provided by Matjaž Perc, Nina Gorišek Miksić, Mitja Slavinec and Andraž Stožer in their paper \"Forecasting COVID-19\", as accessed on April 20th 2020: https://doi.org/10.3389/fphy.2020.00127\n",
    "\n",
    "Requirements: \n",
    "- Python 3\n",
    "- Pandas\n",
    "- Matplotlib"
   ]
  },
  {
   "cell_type": "code",
   "execution_count": 9,
   "metadata": {},
   "outputs": [],
   "source": [
    "%matplotlib inline\n",
    "\n",
    "import pandas as pd\n",
    "from datetime import datetime\n",
    "import math"
   ]
  },
  {
   "cell_type": "code",
   "execution_count": 2,
   "metadata": {},
   "outputs": [],
   "source": [
    "# File containing cumulative sum of confirmed cases, one day per line (must not contain gaps)\n",
    "filename = \"data/slovenia.txt\"\n",
    "data = open(filename,\"r\").read().split(\"\\n\")\n",
    "data = [int(x) for x in data]\n",
    "\n",
    "# Date of first line of data\n",
    "y = 2020\n",
    "m = 3\n",
    "d = 4\n",
    "startdate = datetime(y,m,d)"
   ]
  },
  {
   "cell_type": "code",
   "execution_count": 3,
   "metadata": {},
   "outputs": [],
   "source": [
    "# Number of days to calculate the maximum, minimum and average growth rate\n",
    "lastxdays = 14\n",
    "\n",
    "# change these values if considering different death rates or #days to get well or to die\n",
    "deathrate = 0.04\n",
    "daystoheal = 14\n",
    "daystodie = 21"
   ]
  },
  {
   "cell_type": "code",
   "execution_count": 5,
   "metadata": {},
   "outputs": [],
   "source": [
    "growrate = {}\n",
    "growrate[0] = 0\n",
    "\n",
    "date = list(pd.date_range(datetime(2020,1,1),datetime(2030,1,1)))\n",
    "\n",
    "# find the index of the starting date and remember as n\n",
    "n = date.index(startdate)\n",
    "\n",
    "actuals = {}\n",
    "\n",
    "for i in range(len(data)):\n",
    "    if i>0:\n",
    "        growrate[i] = (data[i]/data[i-1])-1.0\n",
    "\n",
    "    healed = 0.0\n",
    "    died = 0.0\n",
    "    \n",
    "    if (i-daystoheal)>=0:\n",
    "        healed = data[i-daystoheal]*(1.0-deathrate)\n",
    "    if (i-daystodie)>=0:\n",
    "        died = data[i-daystodie]*deathrate\n",
    "    \n",
    "    actuals[date[i+n]] = (data[i]-healed-died, growrate[i])"
   ]
  },
  {
   "cell_type": "code",
   "execution_count": 6,
   "metadata": {},
   "outputs": [
    {
     "name": "stdout",
     "output_type": "stream",
     "text": [
      "using last 14 days\n",
      "minimal growth rate is 0.0476\n",
      "maximal growth rate is 0.1553\n",
      "average growth rate is 0.0902\n"
     ]
    }
   ],
   "source": [
    "mingrowrate = math.inf\n",
    "maxgrowrate = 0.0\n",
    "avggrowrate = 0.0\n",
    "\n",
    "for i in range(len(data)-lastxdays,len(data)):\n",
    "    avggrowrate += growrate[i]\n",
    "    if growrate[i] < mingrowrate: \n",
    "        mingrowrate = growrate[i]\n",
    "\n",
    "    if growrate[i] > maxgrowrate:\n",
    "        maxgrowrate = growrate[i]\n",
    "\n",
    "avggrowrate = avggrowrate / lastxdays\n",
    "    \n",
    "print(\"using last %ld days\" % lastxdays)\n",
    "print(\"minimal growth rate is %.4lf\" % mingrowrate)\n",
    "print(\"maximal growth rate is %.4lf\" % maxgrowrate)\n",
    "print(\"average growth rate is %.4lf\" % avggrowrate)"
   ]
  },
  {
   "cell_type": "code",
   "execution_count": 7,
   "metadata": {},
   "outputs": [],
   "source": [
    "maxgrowrate = maxgrowrate * 1.2\n",
    "decgrowrate = maxgrowrate / 30.0\n",
    "\n",
    "# Forecasting for 30 different growth rates (runs)\n",
    "runs = {}\n",
    "for q in range(31):\n",
    "    predict = data[-1]\n",
    "    forecast = {}\n",
    "    for i in range(len(data),len(data)+daystoheal):\n",
    "        predict = predict * (1 + maxgrowrate - q*decgrowrate)\n",
    "        healed = 0.0\n",
    "        died = 0.0\n",
    "        if (i-daystoheal) >= 0:\n",
    "            healed = data[i-daystoheal]*(1-deathrate);\n",
    "        if (i-daystodie) >= 0:\n",
    "            died = data[i-daystodie]*deathrate;\n",
    "        forecast[date[i+n]] = int(predict-healed-died)\n",
    "    rate = maxgrowrate-q*decgrowrate\n",
    "    runs[rate] = forecast"
   ]
  },
  {
   "cell_type": "code",
   "execution_count": 10,
   "metadata": {},
   "outputs": [
    {
     "data": {
      "text/plain": [
       "Text(0.5, 1.0, 'Forecasts based on Perc et al (2020) \\n https://doi.org/10.3389/fphy.2020.00127')"
      ]
     },
     "execution_count": 10,
     "metadata": {},
     "output_type": "execute_result"
    },
    {
     "data": {
      "image/png": "[encoded data removed]",
      "text/plain": [
       "<Figure size 432x288 with 1 Axes>"
      ]
     },
     "metadata": {
      "needs_background": "light"
     },
     "output_type": "display_data"
    }
   ],
   "source": [
    "import matplotlib.pyplot as plt\n",
    "\n",
    "actual = pd.DataFrame(actuals).iloc[0]\n",
    "actual.plot()\n",
    "\n",
    "for rate in sorted(runs.keys()):\n",
    "    s = pd.Series(runs[rate])\n",
    "    \n",
    "    # This is just to connect the actual and forecast lines\n",
    "    s = actual.tail(1).append(s)\n",
    "\n",
    "    # Some pretty colors\n",
    "    if rate<avggrowrate:\n",
    "        c = '#9effb8'\n",
    "    if rate>=avggrowrate:\n",
    "        c = '#ffa1a1'\n",
    "    if rate == min(runs.keys()):\n",
    "        c = 'green'\n",
    "    if rate == max(runs.keys()):\n",
    "        c = 'red'\n",
    "    s.plot(color=c)\n",
    "\n",
    "plt.yscale('log')\n",
    "plt.grid()\n",
    "plt.ylabel(\"Number of cases\")\n",
    "plt.xlabel(\"Date\")\n",
    "plt.title(\"Forecasts based on Perc et al (2020) \\n https://doi.org/10.3389/fphy.2020.00127\")"
   ]
  }
 ],
 "metadata": {
  "kernelspec": {
   "display_name": "Python 3",
   "language": "python",
   "name": "python3"
  },
  "language_info": {
   "codemirror_mode": {
    "name": "ipython",
    "version": 3
   },
   "file_extension": ".py",
   "mimetype": "text/x-python",
   "name": "python",
   "nbconvert_exporter": "python",
   "pygments_lexer": "ipython3",
   "version": "3.7.4"
  }
 },
 "nbformat": 4,
 "nbformat_minor": 4
}
